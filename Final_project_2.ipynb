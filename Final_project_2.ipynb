{
 "cells": [
  {
   "cell_type": "code",
   "execution_count": null,
   "metadata": {},
   "outputs": [],
   "source": [
    "import pandas as pd\n",
    "import numpy as np\n",
    "df = pd.read_excel(r'/Users/harveycas/Documents/FAES/Python class/python_test_list.xlsx')\n",
    "print(df)"
   ]
  },
  {
   "cell_type": "code",
   "execution_count": 5,
   "metadata": {},
   "outputs": [
    {
     "name": "stdout",
     "output_type": "stream",
     "text": [
      "       Tetrad spore  viability  NAT  HYG  URA\n",
      "Plate                                        \n",
      "1           1    1A          1    1    0    1\n",
      "1           1    1B          1    1    0    0\n",
      "1           1    1C          1    0    1    0\n",
      "1           1    1D          1    0    0    1\n",
      "1           2    2A          1    1    1    1\n",
      "1           2    2B          1    1    1    1\n",
      "1           2    2C          1    1    1    1\n",
      "1           2    2D          1    1    1    1\n",
      "1           3    3A          1    1    1    1\n",
      "1           3    3B          1    0    0    0\n",
      "1           3    3C          1    1    1    1\n",
      "1           3    3D          1    0    0    0\n",
      "1           4    4A          1    1    1    1\n",
      "1           4    4B          1    1    1    1\n",
      "1           4    4C          1    0    0    0\n",
      "1           4    4D          1    0    0    0\n",
      "1           5    5A          1    1    1    1\n",
      "1           5    5B          1    1    1    1\n",
      "1           5    5C          1    0    0    0\n",
      "1           5    5D          1    0    0    0\n",
      "1           6    6A          1    0    0    0\n",
      "1           6    6B          1    0    0    0\n",
      "1           6    6C          1    0    0    0\n",
      "1           6    6D          1    0    0    0\n",
      "1           7    7A          1    1    1    1\n",
      "1           7    7B          1    1    1    1\n",
      "1           7    7C          1    1    1    1\n",
      "1           7    7D          1    1    1    1\n",
      "1           8    8A          1    1    1    1\n",
      "1           8    8B          1    0    0    0\n",
      "1           8    8C          1    1    1    1\n",
      "1           8    8D          1    0    0    0\n",
      "1           9    9A          1    1    1    1\n",
      "1           9    9B          1    0    0    0\n",
      "1           9    9C          1    1    1    1\n",
      "1           9    9D          1    0    0    0\n",
      "1          10   10A          1    1    1    1\n",
      "1          10   10B          1    0    0    0\n",
      "1          10   10C          1    1    1    1\n",
      "1          10   10D          1    0    0    0\n",
      "1          11   11A          1    1    1    1\n",
      "1          11   11B          1    0    0    0\n",
      "1          11   11C          1    1    1    1\n",
      "1          11   11D          1    0    0    0\n",
      "1          12   12A          1    1    1    1\n",
      "1          12   12B          1    0    0    0\n",
      "1          12   12C          1    1    1    1\n",
      "1          12   12D          1    0    0    0\n"
     ]
    }
   ],
   "source": [
    "df_index = df.set_index('Plate')\n",
    "print(df_index)"
   ]
  },
  {
   "cell_type": "code",
   "execution_count": 6,
   "metadata": {},
   "outputs": [
    {
     "name": "stdout",
     "output_type": "stream",
     "text": [
      "       Tetrad spore  viability  NAT  HYG  URA\n",
      "Plate                                        \n",
      "1           1    1A          1    1    0    1\n",
      "1           1    1B          1    1    0    0\n",
      "1           2    2A          1    1    1    1\n",
      "1           2    2B          1    1    1    1\n",
      "1           2    2C          1    1    1    1\n",
      "1           2    2D          1    1    1    1\n",
      "1           3    3A          1    1    1    1\n",
      "1           3    3C          1    1    1    1\n",
      "1           4    4A          1    1    1    1\n",
      "1           4    4B          1    1    1    1\n",
      "1           5    5A          1    1    1    1\n",
      "1           5    5B          1    1    1    1\n",
      "1           7    7A          1    1    1    1\n",
      "1           7    7B          1    1    1    1\n",
      "1           7    7C          1    1    1    1\n",
      "1           7    7D          1    1    1    1\n",
      "1           8    8A          1    1    1    1\n",
      "1           8    8C          1    1    1    1\n",
      "1           9    9A          1    1    1    1\n",
      "1           9    9C          1    1    1    1\n",
      "1          10   10A          1    1    1    1\n",
      "1          10   10C          1    1    1    1\n",
      "1          11   11A          1    1    1    1\n",
      "1          11   11C          1    1    1    1\n",
      "1          12   12A          1    1    1    1\n",
      "1          12   12C          1    1    1    1\n"
     ]
    }
   ],
   "source": [
    "sort_by_NAT = df_index.sort_values(['NAT'], ascending=False)\n",
    "NAT_positive = df_index[df_index['NAT'] > 0]\n",
    "print(NAT_positive)\n",
    "dfNAT = pd.DataFrame(NAT_positive)\n",
    "dfNAT.to_excel(\"NAT_positive_python_fp.xlsx\")"
   ]
  },
  {
   "cell_type": "code",
   "execution_count": 7,
   "metadata": {},
   "outputs": [
    {
     "name": "stdout",
     "output_type": "stream",
     "text": [
      "       Tetrad spore  viability  NAT  HYG  URA\n",
      "Plate                                        \n",
      "1           1    1C          1    0    1    0\n",
      "1           2    2A          1    1    1    1\n",
      "1           2    2B          1    1    1    1\n",
      "1           2    2C          1    1    1    1\n",
      "1           2    2D          1    1    1    1\n",
      "1           3    3A          1    1    1    1\n",
      "1           3    3C          1    1    1    1\n",
      "1           4    4A          1    1    1    1\n",
      "1           4    4B          1    1    1    1\n",
      "1           5    5A          1    1    1    1\n",
      "1           5    5B          1    1    1    1\n",
      "1           7    7A          1    1    1    1\n",
      "1           7    7B          1    1    1    1\n",
      "1           7    7C          1    1    1    1\n",
      "1           7    7D          1    1    1    1\n",
      "1           8    8A          1    1    1    1\n",
      "1           8    8C          1    1    1    1\n",
      "1           9    9A          1    1    1    1\n",
      "1           9    9C          1    1    1    1\n",
      "1          10   10A          1    1    1    1\n",
      "1          10   10C          1    1    1    1\n",
      "1          11   11A          1    1    1    1\n",
      "1          11   11C          1    1    1    1\n",
      "1          12   12A          1    1    1    1\n",
      "1          12   12C          1    1    1    1\n"
     ]
    }
   ],
   "source": [
    "sort_by_HYG = df_index.sort_values(['HYG'], ascending=False)\n",
    "HYG_positive = df_index[df_index['HYG'] > 0]\n",
    "print(HYG_positive)\n",
    "dfNAT = pd.DataFrame(HYG_positive)\n",
    "dfNAT.to_excel(\"HYG_positive_python_fp.xlsx\")"
   ]
  },
  {
   "cell_type": "code",
   "execution_count": 8,
   "metadata": {},
   "outputs": [
    {
     "name": "stdout",
     "output_type": "stream",
     "text": [
      "       Tetrad spore  viability  NAT  HYG  URA\n",
      "Plate                                        \n",
      "1           1    1C          1    0    1    0\n",
      "1           2    2A          1    1    1    1\n",
      "1           2    2B          1    1    1    1\n",
      "1           2    2C          1    1    1    1\n",
      "1           2    2D          1    1    1    1\n",
      "1           3    3A          1    1    1    1\n",
      "1           3    3C          1    1    1    1\n",
      "1           4    4A          1    1    1    1\n",
      "1           4    4B          1    1    1    1\n",
      "1           5    5A          1    1    1    1\n",
      "1           5    5B          1    1    1    1\n",
      "1           7    7A          1    1    1    1\n",
      "1           7    7B          1    1    1    1\n",
      "1           7    7C          1    1    1    1\n",
      "1           7    7D          1    1    1    1\n",
      "1           8    8A          1    1    1    1\n",
      "1           8    8C          1    1    1    1\n",
      "1           9    9A          1    1    1    1\n",
      "1           9    9C          1    1    1    1\n",
      "1          10   10A          1    1    1    1\n",
      "1          10   10C          1    1    1    1\n",
      "1          11   11A          1    1    1    1\n",
      "1          11   11C          1    1    1    1\n",
      "1          12   12A          1    1    1    1\n",
      "1          12   12C          1    1    1    1\n"
     ]
    }
   ],
   "source": [
    "sort_by_URA = df_index.sort_values(['URA'], ascending=False)\n",
    "URA_positive = df_index[df_index['HYG'] > 0]\n",
    "print(URA_positive)\n",
    "dfNAT = pd.DataFrame(URA_positive)\n",
    "dfNAT.to_excel(\"URA_positive_python_fp.xlsx\")"
   ]
  },
  {
   "cell_type": "code",
   "execution_count": 9,
   "metadata": {},
   "outputs": [],
   "source": [
    "all_positive = {'NAT_plus': NAT_positive, 'HYG_plus': HYG_positive, 'URA_plus': URA_positive}\n",
    "writer = pd.ExcelWriter('Antibiotic_markers.xlsx', engine='xlsxwriter')\n",
    "\n",
    "for sheet_name in all_positive.keys():\n",
    "    all_positive[sheet_name].to_excel(writer, sheet_name=sheet_name, index=False)\n",
    "    \n",
    "writer.save()"
   ]
  }
 ],
 "metadata": {
  "kernelspec": {
   "display_name": "Python 3",
   "language": "python",
   "name": "python3"
  },
  "language_info": {
   "codemirror_mode": {
    "name": "ipython",
    "version": 3
   },
   "file_extension": ".py",
   "mimetype": "text/x-python",
   "name": "python",
   "nbconvert_exporter": "python",
   "pygments_lexer": "ipython3",
   "version": "3.7.4"
  }
 },
 "nbformat": 4,
 "nbformat_minor": 4
}
